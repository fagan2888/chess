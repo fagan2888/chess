{
 "cells": [
  {
   "cell_type": "markdown",
   "metadata": {},
   "source": [
    "## Chess perft(d) model\n",
    "\n",
    "***We find a functional appoximation for perft(d) in chess,\n",
    "given depth $d$, and show predictions up to depth 30.***\n",
    "\n",
    "Game tree size is defined as the total number of games\n",
    "that can be played from the initial position.\n",
    "This number is also equal to the number of leaf nodes in a game tree.\n",
    "The partial game tree size computed from any position and up\n",
    "to a certain *depth* **d** is informally known as **perft(d)**.\n",
    "In the area of computer chess programming,\n",
    "perft is used to verify correct implementation of move generation\n",
    "and to some extent for comparing efficiency.\n",
    "\n",
    "Introductory references:  https://github.com/rsvp/chess/wiki/perft"
   ]
  },
  {
   "cell_type": "markdown",
   "metadata": {},
   "source": [
    "*Dependencies:*\n",
    "\n",
    "- Repository: https://github.com/rsvp/fecon235\n",
    "\n",
    "*CHANGE LOG*\n",
    "\n",
    "    2017-08-26  First version given perft(15) announcement yesterday."
   ]
  },
  {
   "cell_type": "code",
   "execution_count": 1,
   "metadata": {
    "collapsed": true
   },
   "outputs": [],
   "source": [
    "from fecon235.fecon235 import *"
   ]
  },
  {
   "cell_type": "code",
   "execution_count": 2,
   "metadata": {
    "collapsed": false
   },
   "outputs": [
    {
     "name": "stdout",
     "output_type": "stream",
     "text": [
      " ::  Python 2.7.13\n",
      " ::  IPython 5.1.0\n",
      " ::  jupyter_core 4.2.1\n",
      " ::  notebook 4.1.0\n",
      " ::  matplotlib 1.5.1\n",
      " ::  numpy 1.11.0\n",
      " ::  scipy 0.17.0\n",
      " ::  sympy 1.0\n",
      " ::  pandas 0.19.2\n",
      " ::  pandas_datareader 0.2.1\n",
      " ::  Repository: chess v1.17.0819 develop\n",
      " ::  Timestamp: 2017-08-27T20:42:35Z\n",
      " ::  $pwd: /media/yaya/virt15h/virt/dbx/Dropbox/share/git/nous/chess/nb\n"
     ]
    }
   ],
   "source": [
    "#  PREAMBLE-p6.15.1223d :: Settings and system details\n",
    "from __future__ import absolute_import, print_function, division\n",
    "system.specs()\n",
    "pwd = system.getpwd()   # present working directory as variable.\n",
    "print(\" ::  $pwd:\", pwd)\n",
    "#  If a module is modified, automatically reload it:\n",
    "%load_ext autoreload\n",
    "%autoreload 2\n",
    "#       Use 0 to disable this feature.\n",
    "\n",
    "#  Notebook DISPLAY options:\n",
    "#      Represent pandas DataFrames as text; not HTML representation:\n",
    "import pandas as pd\n",
    "pd.set_option( 'display.notebook_repr_html', False )\n",
    "from IPython.display import HTML # useful for snippets\n",
    "#  e.g. HTML('<iframe src=http://en.mobile.wikipedia.org/?useformat=mobile width=700 height=350></iframe>')\n",
    "from IPython.display import Image \n",
    "#  e.g. Image(filename='holt-winters-equations.png', embed=True) # url= also works\n",
    "from IPython.display import YouTubeVideo\n",
    "#  e.g. YouTubeVideo('1j_HxD4iLn8', start='43', width=600, height=400)\n",
    "from IPython.core import page\n",
    "get_ipython().set_hook('show_in_pager', page.as_hook(page.display_page), 0)\n",
    "#  Or equivalently in config file: \"InteractiveShell.display_page = True\", \n",
    "#  which will display results in secondary notebook pager frame in a cell.\n",
    "\n",
    "#  Generate PLOTS inside notebook, \"inline\" generates static png:\n",
    "%matplotlib inline   \n",
    "#          \"notebook\" argument allows interactive zoom and resize."
   ]
  },
  {
   "cell_type": "markdown",
   "metadata": {},
   "source": [
    "## Data and its log transform"
   ]
  },
  {
   "cell_type": "code",
   "execution_count": 3,
   "metadata": {
    "collapsed": true
   },
   "outputs": [],
   "source": [
    "#  data from https://chessprogramming.wikispaces.com/Perft+Results\n",
    "\n",
    "data   = np.array([[20, 1],\n",
    "                   [400, 2],\n",
    "                   [8902, 3],\n",
    "                   [197281, 4],\n",
    "                   [4865609, 5],\n",
    "                   [119060324, 6],\n",
    "                   [3195901860, 7],\n",
    "                   [84998978956, 8],\n",
    "                   [2439530234167, 9],\n",
    "                   [69352859712417, 10],\n",
    "                   [2097651003696806, 11],\n",
    "                   [62854969236701747, 12],\n",
    "                   [1981066775000396239, 13], \n",
    "                   [61885021521585529237, 14],\n",
    "                   [2015099950053364471960, 15]] )\n",
    "\n",
    "#  Second column in this matrix is depth d."
   ]
  },
  {
   "cell_type": "code",
   "execution_count": 4,
   "metadata": {
    "collapsed": false
   },
   "outputs": [],
   "source": [
    "#  Read in the columns:\n",
    "games = data[:,0].astype(float)\n",
    "depth = data[:,1]"
   ]
  },
  {
   "cell_type": "markdown",
   "metadata": {},
   "source": [
    "Python handles long integers, but the numpy log function cannot.\n",
    "So we must convert to float without much loss of generality."
   ]
  },
  {
   "cell_type": "code",
   "execution_count": 5,
   "metadata": {
    "collapsed": true
   },
   "outputs": [],
   "source": [
    "#  Use log in familiar BASE 10:\n",
    "loggames = np.log10(games)"
   ]
  },
  {
   "cell_type": "code",
   "execution_count": 6,
   "metadata": {
    "collapsed": false
   },
   "outputs": [],
   "source": [
    "#  Create pandas dataframe for number of games:\n",
    "df_loggames = todf(loggames)"
   ]
  },
  {
   "cell_type": "code",
   "execution_count": 7,
   "metadata": {
    "collapsed": false
   },
   "outputs": [
    {
     "data": {
      "text/plain": [
       "            Y\n",
       "0    1.301030\n",
       "1    2.602060\n",
       "2    3.949488\n",
       "3    5.295085\n",
       "4    6.687137\n",
       "5    8.075767\n",
       "6    9.504593\n",
       "7   10.929414\n",
       "8   12.387306\n",
       "9   13.841064\n",
       "10  15.321733\n",
       "11  16.798340\n",
       "12  18.296899\n",
       "13  19.791586\n",
       "14  21.304297"
      ]
     },
     "execution_count": 7,
     "metadata": {},
     "output_type": "execute_result"
    }
   ],
   "source": [
    "df_loggames"
   ]
  },
  {
   "cell_type": "code",
   "execution_count": 8,
   "metadata": {
    "collapsed": false
   },
   "outputs": [
    {
     "data": {
      "image/png": "[encoded data removed]",
      "text/plain": [
       "<matplotlib.figure.Figure at 0xa9c108cc>"
      ]
     },
     "metadata": {},
     "output_type": "display_data"
    }
   ],
   "source": [
    "#  plot loggames against dataframe index, not depth:\n",
    "plotn(df_loggames)"
   ]
  },
  {
   "cell_type": "markdown",
   "metadata": {},
   "source": [
    "The plot produces a straight line, thus linear regression is appropriate.\n",
    "\n",
    "\n",
    "## Regression\n",
    "\n",
    "We find that ignoring low depth values in the computations\n",
    "increases prediction accuracy."
   ]
  },
  {
   "cell_type": "code",
   "execution_count": 9,
   "metadata": {
    "collapsed": false
   },
   "outputs": [],
   "source": [
    "#  Cut off some early points from linear regression:\n",
    "start = 7\n",
    "\n",
    "slope, intercept, r, p, stderr = scipy.stats.linregress(depth[start:], loggames[start:])"
   ]
  },
  {
   "cell_type": "code",
   "execution_count": 10,
   "metadata": {
    "collapsed": false
   },
   "outputs": [
    {
     "data": {
      "text/plain": [
       "0.99995775431333844"
      ]
     },
     "execution_count": 10,
     "metadata": {},
     "output_type": "execute_result"
    }
   ],
   "source": [
    "#  R^2\n",
    "r**2"
   ]
  },
  {
   "cell_type": "markdown",
   "metadata": {},
   "source": [
    "Nearly perfect fit indicated by $R^2$ statistic."
   ]
  },
  {
   "cell_type": "code",
   "execution_count": 11,
   "metadata": {
    "collapsed": false
   },
   "outputs": [
    {
     "data": {
      "text/plain": [
       "1.482020089256456"
      ]
     },
     "execution_count": 11,
     "metadata": {},
     "output_type": "execute_result"
    }
   ],
   "source": [
    "slope"
   ]
  },
  {
   "cell_type": "code",
   "execution_count": 12,
   "metadata": {
    "collapsed": false
   },
   "outputs": [
    {
     "data": {
      "text/plain": [
       "-0.95940122737613365"
      ]
     },
     "execution_count": 12,
     "metadata": {},
     "output_type": "execute_result"
    }
   ],
   "source": [
    "intercept"
   ]
  },
  {
   "cell_type": "markdown",
   "metadata": {},
   "source": [
    "By mathematically rewriting our regression result,\n",
    "we can now define our ***Python function for perft(depth)***:"
   ]
  },
  {
   "cell_type": "code",
   "execution_count": 13,
   "metadata": {
    "collapsed": true
   },
   "outputs": [],
   "source": [
    "def perft( d, b=slope, c=intercept ):\n",
    "    '''Chess perft(d) given depth d and estimated regression parameters.'''\n",
    "    return 10**((b*d) + c)"
   ]
  },
  {
   "cell_type": "markdown",
   "metadata": {},
   "source": [
    "### Fit vs. actual"
   ]
  },
  {
   "cell_type": "code",
   "execution_count": 14,
   "metadata": {
    "collapsed": false
   },
   "outputs": [
    {
     "name": "stdout",
     "output_type": "stream",
     "text": [
      "1 3.33133925122 20.0\n",
      "2 101.073883147 400.0\n",
      "3 3066.61348007 8902.0\n",
      "4 93042.0197909 197281.0\n",
      "5 2822924.21365 4865609.0\n",
      "6 85648410.6203 119060324.0\n",
      "7 2598599780.44 3195901860.0\n",
      "8 78842336594.4 84998978956.0\n",
      "9 2.39210134875e+12 2.43953023417e+12\n",
      "10 7.25771090747e+13 6.93528597124e+13\n",
      "11 2.20201237058e+15 2.0976510037e+15\n",
      "12 6.68097495479e+16 6.28549692367e+16\n",
      "13 2.02702886427e+18 1.981066775e+18\n",
      "14 6.15006947997e+19 6.18850215216e+19\n",
      "15 1.86595046944e+21 2.01509995005e+21\n"
     ]
    }
   ],
   "source": [
    "#  At each depth, COMPARE fitted vs. actual values:\n",
    "for depth in range(1, 16):\n",
    "    print(depth, perft(depth), games[depth-1])"
   ]
  },
  {
   "cell_type": "markdown",
   "metadata": {},
   "source": [
    "For recent depths, the fit is remarkable good,\n",
    "especially when the exponent portion is considered.\n",
    "Some initial data points were omitted from the\n",
    "regression analysis, however, the \"backcasts\"\n",
    "are reasonable good given the huge range of games,\n",
    "20 to $10^{21}$.\n",
    "This gives us some confidence that the predictions\n",
    "next are not unreasonable.\n",
    "\n",
    "## Predictions\n",
    "\n",
    "If linearity holds, we can extrapolate and make predictions."
   ]
  },
  {
   "cell_type": "code",
   "execution_count": 15,
   "metadata": {
    "collapsed": false
   },
   "outputs": [
    {
     "name": "stdout",
     "output_type": "stream",
     "text": [
      "16 5.66135255176e+22\n",
      "17 1.71767221265e+24\n",
      "18 5.21147164591e+25\n",
      "19 1.58117692748e+27\n",
      "20 4.79734064746e+28\n",
      "21 1.45552827693e+30\n",
      "22 4.41611868038e+31\n",
      "23 1.33986433025e+33\n",
      "24 4.06519061962e+34\n",
      "25 1.23339165025e+36\n",
      "26 3.74214915177e+37\n",
      "27 1.13537985045e+39\n",
      "28 3.44477826119e+40\n",
      "29 1.04515658473e+42\n",
      "30 3.17103802855e+43\n"
     ]
    }
   ],
   "source": [
    "#  PREDICTIONS\n",
    "for depth in range(16, 31):\n",
    "    print(depth, perft(depth))"
   ]
  },
  {
   "cell_type": "markdown",
   "metadata": {},
   "source": [
    "## Conclusion\n",
    "\n",
    "By using the logarthmic transform, linear regression\n",
    "does an excellent job of giving functional form to perft(d) in chess:\n",
    "\n",
    "$$ \\it{perft}(d) = 10^{(bd + c)} $$\n",
    "\n",
    "where $d$ is the depth, $b$ the fitted slope, and $c$ the intercept\n",
    "as noted numerically above.\n",
    "\n",
    "The last cell shows predicted values of forthcoming computations."
   ]
  }
 ],
 "metadata": {
  "kernelspec": {
   "display_name": "Python 2",
   "language": "python",
   "name": "python2"
  },
  "language_info": {
   "codemirror_mode": {
    "name": "ipython",
    "version": 2
   },
   "file_extension": ".py",
   "mimetype": "text/x-python",
   "name": "python",
   "nbconvert_exporter": "python",
   "pygments_lexer": "ipython2",
   "version": "2.7.13"
  }
 },
 "nbformat": 4,
 "nbformat_minor": 0
}
